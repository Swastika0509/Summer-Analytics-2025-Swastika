{
  "nbformat": 4,
  "nbformat_minor": 0,
  "metadata": {
    "colab": {
      "provenance": [],
      "authorship_tag": "ABX9TyOZRj61iO75dA0WN6YWxLYR",
      "include_colab_link": true
    },
    "kernelspec": {
      "name": "python3",
      "display_name": "Python 3"
    },
    "language_info": {
      "name": "python"
    }
  },
  "cells": [
    {
      "cell_type": "markdown",
      "metadata": {
        "id": "view-in-github",
        "colab_type": "text"
      },
      "source": [
        "<a href=\"https://colab.research.google.com/github/Swastika0509/Summer-Analytics-2025-Swastika/blob/main/Summer_Analytics.ipynb\" target=\"_parent\"><img src=\"https://colab.research.google.com/assets/colab-badge.svg\" alt=\"Open In Colab\"/></a>"
      ]
    },
    {
      "cell_type": "code",
      "source": [
        "import pandas as pd\n",
        "import numpy as np\n",
        "from sklearn.impute import SimpleImputer\n",
        "from sklearn.preprocessing import StandardScaler, LabelEncoder\n",
        "from sklearn.linear_model import LogisticRegression\n",
        "from sklearn.model_selection import train_test_split\n",
        "from sklearn.metrics import classification_report"
      ],
      "metadata": {
        "id": "qZyhEGv3Kq-8"
      },
      "execution_count": null,
      "outputs": []
    },
    {
      "cell_type": "code",
      "source": [
        "train_df = pd.read_csv(\"hacktrain.csv\")"
      ],
      "metadata": {
        "id": "JFzo8kXIMCIl"
      },
      "execution_count": null,
      "outputs": []
    },
    {
      "cell_type": "code",
      "source": [
        "ndvi_cols = [col for col in train_df.columns if col.endswith('_N')]"
      ],
      "metadata": {
        "id": "3wvUBnd2KuU1"
      },
      "execution_count": null,
      "outputs": []
    },
    {
      "cell_type": "code",
      "source": [
        "train_df[ndvi_cols] = train_df[ndvi_cols].apply(pd.to_numeric, errors='coerce')\n",
        "train_df[ndvi_cols] = train_df[ndvi_cols].interpolate(axis=1, limit_direction='both')"
      ],
      "metadata": {
        "id": "4XvKxRqjKyax"
      },
      "execution_count": null,
      "outputs": []
    },
    {
      "cell_type": "code",
      "source": [
        "imputer = SimpleImputer(strategy='mean')\n",
        "train_df[ndvi_cols] = imputer.fit_transform(train_df[ndvi_cols])"
      ],
      "metadata": {
        "id": "xinoOukiK3II"
      },
      "execution_count": null,
      "outputs": []
    },
    {
      "cell_type": "code",
      "source": [
        "train_df['NDVI_mean'] = train_df[ndvi_cols].mean(axis=1)\n",
        "train_df['NDVI_std'] = train_df[ndvi_cols].std(axis=1)\n",
        "train_df['NDVI_max'] = train_df[ndvi_cols].max(axis=1)\n",
        "train_df['NDVI_min'] = train_df[ndvi_cols].min(axis=1)\n",
        "train_df['NDVI_trend'] = train_df[ndvi_cols].iloc[:, -1] - train_df[ndvi_cols].iloc[:, 0]"
      ],
      "metadata": {
        "id": "4DCD2r_CK7vL"
      },
      "execution_count": null,
      "outputs": []
    },
    {
      "cell_type": "code",
      "source": [
        "label_encoder = LabelEncoder()\n",
        "train_df['class'] = label_encoder.fit_transform(train_df['class'])"
      ],
      "metadata": {
        "id": "HAFHRUajK_OO"
      },
      "execution_count": null,
      "outputs": []
    },
    {
      "cell_type": "code",
      "source": [
        "X = train_df.drop(columns=['class', 'ID'], errors='ignore')\n",
        "y = train_df['class']\n",
        "scaler = StandardScaler()\n",
        "X_scaled = scaler.fit_transform(X)"
      ],
      "metadata": {
        "id": "YNGSxg0bLDws"
      },
      "execution_count": null,
      "outputs": []
    },
    {
      "cell_type": "code",
      "source": [
        "X_train, X_val, y_train, y_val = train_test_split(X_scaled, y, test_size=0.2, stratify=y, random_state=42) #Train test split"
      ],
      "metadata": {
        "id": "_cUo-NSNLLnu"
      },
      "execution_count": null,
      "outputs": []
    },
    {
      "cell_type": "code",
      "source": [
        "model = LogisticRegression(multi_class='multinomial', solver='lbfgs', max_iter=1000)\n",
        "model.fit(X_train, y_train)"
      ],
      "metadata": {
        "id": "SlPoUzZHLSHW"
      },
      "execution_count": null,
      "outputs": []
    },
    {
      "cell_type": "code",
      "source": [
        "y_val_pred = model.predict(X_val)"
      ],
      "metadata": {
        "id": "jrNnYM_ZLVvr"
      },
      "execution_count": null,
      "outputs": []
    },
    {
      "cell_type": "code",
      "source": [
        "print(classification_report(y_val, y_val_pred, target_names=label_encoder.classes_))"
      ],
      "metadata": {
        "id": "eA0f4SYPLdGV"
      },
      "execution_count": null,
      "outputs": []
    },
    {
      "cell_type": "code",
      "source": [
        "test_df = pd.read_csv(\"hacktest.csv\")\n",
        "submission_ids = test_df['ID']"
      ],
      "metadata": {
        "id": "65WcFIgtLg6R"
      },
      "execution_count": null,
      "outputs": []
    },
    {
      "cell_type": "code",
      "source": [
        "ndvi_cols = [col for col in test_df.columns if col.endswith('_N')]"
      ],
      "metadata": {
        "id": "asXKK1l3L0As"
      },
      "execution_count": null,
      "outputs": []
    },
    {
      "cell_type": "code",
      "source": [
        "test_df[ndvi_cols] = test_df[ndvi_cols].apply(pd.to_numeric, errors='coerce')\n",
        "test_df[ndvi_cols] = test_df[ndvi_cols].interpolate(axis=1, limit_direction='both')\n",
        "test_df[ndvi_cols] = imputer.transform(test_df[ndvi_cols])"
      ],
      "metadata": {
        "id": "ZzsjPJCgLxW3"
      },
      "execution_count": null,
      "outputs": []
    },
    {
      "cell_type": "code",
      "source": [
        "test_df['NDVI_mean'] = test_df[ndvi_cols].mean(axis=1)\n",
        "test_df['NDVI_std'] = test_df[ndvi_cols].std(axis=1)\n",
        "test_df['NDVI_max'] = test_df[ndvi_cols].max(axis=1)\n",
        "test_df['NDVI_min'] = test_df[ndvi_cols].min(axis=1)\n",
        "test_df['NDVI_trend'] = test_df[ndvi_cols].iloc[:, -1] - test_df[ndvi_cols].iloc[:, 0]"
      ],
      "metadata": {
        "id": "dSCoJCKVLuxh"
      },
      "execution_count": null,
      "outputs": []
    },
    {
      "cell_type": "code",
      "source": [
        "X_test = test_df[X.columns]  # exact same column order\n",
        "X_test_scaled = scaler.transform(X_test)"
      ],
      "metadata": {
        "id": "QbQf7TquLtQu"
      },
      "execution_count": null,
      "outputs": []
    },
    {
      "cell_type": "code",
      "source": [
        "test_preds = model.predict(X_test_scaled)\n",
        "test_labels = label_encoder.inverse_transform(test_preds)"
      ],
      "metadata": {
        "id": "AANYLwbbLo2M"
      },
      "execution_count": null,
      "outputs": []
    },
    {
      "cell_type": "code",
      "source": [
        "submission_df = pd.DataFrame({\n",
        "    'ID': submission_ids,\n",
        "    'class': test_labels\n",
        "})\n",
        "\n",
        "submission_df.to_csv(\"submission.csv\", index=False)\n",
        "print(\"saved\")"
      ],
      "metadata": {
        "id": "q_mkmOzmL6-Y"
      },
      "execution_count": null,
      "outputs": []
    }
  ]
}